{
 "cells": [
  {
   "cell_type": "code",
   "execution_count": 1,
   "metadata": {},
   "outputs": [],
   "source": [
    "# modules\n",
    "import bs4 as bs\n",
    "from urllib import request\n",
    "\n",
    "import pandas as pd"
   ]
  },
  {
   "cell_type": "markdown",
   "metadata": {},
   "source": [
    "## Getting all the links"
   ]
  },
  {
   "cell_type": "code",
   "execution_count": 2,
   "metadata": {},
   "outputs": [],
   "source": [
    "# get all lists links\n",
    "# first - manual because it's different\n",
    "first_link = 'https://www.imdb.com/search/title/?title_type=feature&primary_language=ar'\n",
    "movies_lists = [first_link]\n",
    "# generate all list of all urls\n",
    "## If the results are more than one page, change 3714 to the number of resutls you got \n",
    "#n = 51\n",
    "# while n < 3714:\n",
    "#     url = f'https://www.imdb.com/search/title/?title_type=feature&primary_language=ar&start={n}&ref_=adv_nxt'\n",
    "#     movies_lists.append(url)\n",
    "#     n += 50"
   ]
  },
  {
   "cell_type": "code",
   "execution_count": 3,
   "metadata": {},
   "outputs": [],
   "source": [
    "\"\"\"Downloads the poster, genres of the movies and add them to a dictionary\n",
    "\n",
    "    Parameters:\n",
    "    imdb_lists (List): A list of all the urls of the movies in IMDB\n",
    "\n",
    "    Returns:\n",
    "    Dictionary: a dictionary with the movie index and genres\n",
    "\n",
    "   \"\"\"\n",
    "def download_list(imdb_lists):\n",
    "    counter = 1\n",
    "    data = {}\n",
    "    for l in imdb_lists:\n",
    "        print(l)\n",
    "        # Scraping the page\n",
    "        src = request.urlopen(l).read()\n",
    "        soup = bs.BeautifulSoup(src, 'lxml')\n",
    "        # getting all the divs of movies\n",
    "        movies_boxes = soup.find_all('div', {'class', 'lister-item mode-advanced'})\n",
    "        # Get the genres and poster per movie in each box\n",
    "        for box in movies_boxes:\n",
    "            movie = box.find('img')\n",
    "            name = movie['alt']\n",
    "            print(f'{counter}.{name}')\n",
    "            counter += 1\n",
    "            # get the genres\n",
    "            genres = box.find('span', {'class', 'genre'})\n",
    "            if genres is None:\n",
    "                print('Skipped')\n",
    "                continue\n",
    "            # Download the image\n",
    "            request.urlretrieve(movie['loadlate'], f'images/{counter}.jpg')\n",
    "            genres = genres.text[1:].strip()\n",
    "            # add it to the data dictionary\n",
    "            data[counter] = genres\n",
    "    return data"
   ]
  },
  {
   "cell_type": "code",
   "execution_count": 4,
   "metadata": {},
   "outputs": [
    {
     "name": "stdout",
     "output_type": "stream",
     "text": [
      "1\n",
      "https://www.imdb.com/search/title/?title_type=feature&primary_language=ar\n",
      "1.Aladdin\n",
      "2.Capharnaüm\n",
      "3.Life of Pi\n",
      "4.The 13th Warrior\n",
      "5.Buried\n",
      "6.Close\n",
      "7.The Nile Hilton Incident\n",
      "8.The Physician\n",
      "9.The Blue Elephant 2\n",
      "10.Karmouz War\n",
      "11.Lion of the Desert\n",
      "12.Much Loved\n",
      "13.Escape Room\n",
      "14.The Passage\n",
      "15.Damascus Cover\n",
      "16.You Will Die at 20\n",
      "17.L'insulte\n",
      "18.Tel Aviv on Fire\n",
      "19.Omar\n",
      "20.Down Under\n",
      "21.The Blue Elephant\n",
      "22.Et maintenant on va où?\n",
      "23.The Perfect Candidate\n",
      "24.Wadjda\n",
      "25.Sukkar banat\n",
      "26.El-Kanz: El-Haqiqah wa el-Khayal 1\n",
      "27.The Treasure 2\n",
      "28.1982\n",
      "29.The Worthy\n",
      "30.Paradise Now\n",
      "31.Djinn\n",
      "32.Noura's Dream\n",
      "33.Hamlet Pheroun\n",
      "34.Yomeddine\n",
      "35.Kasablanka\n",
      "36.Azur et Asmar\n",
      "37.Eshtebak\n",
      "38.Mosul\n",
      "39.Theeb\n",
      "40.El-Khaliyyah\n",
      "41.Al-risâlah\n",
      "42.Welad Rizk 2\n",
      "43.Bik Eneich: Un Fils\n",
      "44.Diamond Dust\n",
      "45.Welad Rizq\n",
      "46.Khayal Maata\n",
      "47.Insyriated\n",
      "48.Le Miracle du Saint Inconnu\n",
      "49.Kurtlar Vadisi: Irak\n",
      "50.Adam\n"
     ]
    }
   ],
   "source": [
    "print(len(movies_lists))\n",
    "data = download_list(movies_lists)"
   ]
  },
  {
   "cell_type": "code",
   "execution_count": 5,
   "metadata": {},
   "outputs": [
    {
     "data": {
      "text/plain": [
       "50"
      ]
     },
     "execution_count": 5,
     "metadata": {},
     "output_type": "execute_result"
    }
   ],
   "source": [
    "len(data)"
   ]
  },
  {
   "cell_type": "markdown",
   "metadata": {},
   "source": [
    "### Saving the data into .csv file"
   ]
  },
  {
   "cell_type": "code",
   "execution_count": 8,
   "metadata": {},
   "outputs": [],
   "source": [
    "w = csv.writer(open(\"data.csv\", \"w\"))\n",
    "for key, val in data.items():\n",
    "    w.writerow([key, val])"
   ]
  },
  {
   "cell_type": "markdown",
   "metadata": {},
   "source": [
    "### Preprocessing the data "
   ]
  },
  {
   "cell_type": "code",
   "execution_count": 9,
   "metadata": {},
   "outputs": [
    {
     "data": {
      "text/html": [
       "<div>\n",
       "<style scoped>\n",
       "    .dataframe tbody tr th:only-of-type {\n",
       "        vertical-align: middle;\n",
       "    }\n",
       "\n",
       "    .dataframe tbody tr th {\n",
       "        vertical-align: top;\n",
       "    }\n",
       "\n",
       "    .dataframe thead th {\n",
       "        text-align: right;\n",
       "    }\n",
       "</style>\n",
       "<table border=\"1\" class=\"dataframe\">\n",
       "  <thead>\n",
       "    <tr style=\"text-align: right;\">\n",
       "      <th></th>\n",
       "      <th>index</th>\n",
       "      <th>genres</th>\n",
       "    </tr>\n",
       "  </thead>\n",
       "  <tbody>\n",
       "    <tr>\n",
       "      <th>0</th>\n",
       "      <td>3</td>\n",
       "      <td>Drama</td>\n",
       "    </tr>\n",
       "    <tr>\n",
       "      <th>1</th>\n",
       "      <td>4</td>\n",
       "      <td>Adventure, Drama, Fantasy</td>\n",
       "    </tr>\n",
       "    <tr>\n",
       "      <th>2</th>\n",
       "      <td>5</td>\n",
       "      <td>Action, Adventure, History</td>\n",
       "    </tr>\n",
       "    <tr>\n",
       "      <th>3</th>\n",
       "      <td>6</td>\n",
       "      <td>Drama, Mystery, Thriller</td>\n",
       "    </tr>\n",
       "    <tr>\n",
       "      <th>4</th>\n",
       "      <td>7</td>\n",
       "      <td>Action, Thriller</td>\n",
       "    </tr>\n",
       "  </tbody>\n",
       "</table>\n",
       "</div>"
      ],
      "text/plain": [
       "   index                      genres\n",
       "0      3                       Drama\n",
       "1      4   Adventure, Drama, Fantasy\n",
       "2      5  Action, Adventure, History\n",
       "3      6    Drama, Mystery, Thriller\n",
       "4      7            Action, Thriller"
      ]
     },
     "execution_count": 9,
     "metadata": {},
     "output_type": "execute_result"
    }
   ],
   "source": [
    "df = pd.read_csv('data.csv')\n",
    "df.columns = ['index', 'genres']\n",
    "df.head()"
   ]
  },
  {
   "cell_type": "code",
   "execution_count": 10,
   "metadata": {},
   "outputs": [],
   "source": [
    "# all characters to lower case\n",
    "df.genres = df.apply(lambda x: x.genres.lower(), axis=1)"
   ]
  },
  {
   "cell_type": "code",
   "execution_count": 11,
   "metadata": {
    "scrolled": false
   },
   "outputs": [],
   "source": [
    "# removing all spaces\n",
    "df.genres = df.apply(lambda x: x.genres.replace(\" \", \"\"), axis=1)"
   ]
  },
  {
   "cell_type": "code",
   "execution_count": 12,
   "metadata": {},
   "outputs": [
    {
     "data": {
      "text/html": [
       "<div>\n",
       "<style scoped>\n",
       "    .dataframe tbody tr th:only-of-type {\n",
       "        vertical-align: middle;\n",
       "    }\n",
       "\n",
       "    .dataframe tbody tr th {\n",
       "        vertical-align: top;\n",
       "    }\n",
       "\n",
       "    .dataframe thead th {\n",
       "        text-align: right;\n",
       "    }\n",
       "</style>\n",
       "<table border=\"1\" class=\"dataframe\">\n",
       "  <thead>\n",
       "    <tr style=\"text-align: right;\">\n",
       "      <th></th>\n",
       "      <th>index</th>\n",
       "      <th>genres</th>\n",
       "    </tr>\n",
       "  </thead>\n",
       "  <tbody>\n",
       "    <tr>\n",
       "      <th>0</th>\n",
       "      <td>3</td>\n",
       "      <td>drama</td>\n",
       "    </tr>\n",
       "    <tr>\n",
       "      <th>1</th>\n",
       "      <td>4</td>\n",
       "      <td>adventure,drama,fantasy</td>\n",
       "    </tr>\n",
       "    <tr>\n",
       "      <th>2</th>\n",
       "      <td>5</td>\n",
       "      <td>action,adventure,history</td>\n",
       "    </tr>\n",
       "    <tr>\n",
       "      <th>3</th>\n",
       "      <td>6</td>\n",
       "      <td>drama,mystery,thriller</td>\n",
       "    </tr>\n",
       "    <tr>\n",
       "      <th>4</th>\n",
       "      <td>7</td>\n",
       "      <td>action,thriller</td>\n",
       "    </tr>\n",
       "  </tbody>\n",
       "</table>\n",
       "</div>"
      ],
      "text/plain": [
       "   index                    genres\n",
       "0      3                     drama\n",
       "1      4   adventure,drama,fantasy\n",
       "2      5  action,adventure,history\n",
       "3      6    drama,mystery,thriller\n",
       "4      7           action,thriller"
      ]
     },
     "execution_count": 12,
     "metadata": {},
     "output_type": "execute_result"
    }
   ],
   "source": [
    "df.head()"
   ]
  },
  {
   "cell_type": "code",
   "execution_count": 13,
   "metadata": {},
   "outputs": [],
   "source": [
    "# save the df\n",
    "df.to_csv('final.csv', sep=',', index=False)"
   ]
  },
  {
   "cell_type": "code",
   "execution_count": 14,
   "metadata": {},
   "outputs": [
    {
     "data": {
      "text/html": [
       "<div>\n",
       "<style scoped>\n",
       "    .dataframe tbody tr th:only-of-type {\n",
       "        vertical-align: middle;\n",
       "    }\n",
       "\n",
       "    .dataframe tbody tr th {\n",
       "        vertical-align: top;\n",
       "    }\n",
       "\n",
       "    .dataframe thead th {\n",
       "        text-align: right;\n",
       "    }\n",
       "</style>\n",
       "<table border=\"1\" class=\"dataframe\">\n",
       "  <thead>\n",
       "    <tr style=\"text-align: right;\">\n",
       "      <th></th>\n",
       "      <th>index</th>\n",
       "      <th>genres</th>\n",
       "    </tr>\n",
       "  </thead>\n",
       "  <tbody>\n",
       "    <tr>\n",
       "      <th>0</th>\n",
       "      <td>3</td>\n",
       "      <td>drama</td>\n",
       "    </tr>\n",
       "    <tr>\n",
       "      <th>1</th>\n",
       "      <td>4</td>\n",
       "      <td>adventure,drama,fantasy</td>\n",
       "    </tr>\n",
       "    <tr>\n",
       "      <th>2</th>\n",
       "      <td>5</td>\n",
       "      <td>action,adventure,history</td>\n",
       "    </tr>\n",
       "    <tr>\n",
       "      <th>3</th>\n",
       "      <td>6</td>\n",
       "      <td>drama,mystery,thriller</td>\n",
       "    </tr>\n",
       "    <tr>\n",
       "      <th>4</th>\n",
       "      <td>7</td>\n",
       "      <td>action,thriller</td>\n",
       "    </tr>\n",
       "  </tbody>\n",
       "</table>\n",
       "</div>"
      ],
      "text/plain": [
       "   index                    genres\n",
       "0      3                     drama\n",
       "1      4   adventure,drama,fantasy\n",
       "2      5  action,adventure,history\n",
       "3      6    drama,mystery,thriller\n",
       "4      7           action,thriller"
      ]
     },
     "execution_count": 14,
     "metadata": {},
     "output_type": "execute_result"
    }
   ],
   "source": [
    "import pandas as pd\n",
    "df = pd.read_csv('final.csv')\n",
    "df.head()"
   ]
  }
 ],
 "metadata": {
  "kernelspec": {
   "display_name": "Python 3",
   "language": "python",
   "name": "python3"
  },
  "language_info": {
   "codemirror_mode": {
    "name": "ipython",
    "version": 3
   },
   "file_extension": ".py",
   "mimetype": "text/x-python",
   "name": "python",
   "nbconvert_exporter": "python",
   "pygments_lexer": "ipython3",
   "version": "3.7.4"
  }
 },
 "nbformat": 4,
 "nbformat_minor": 2
}
